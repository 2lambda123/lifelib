{
 "cells": [
  {
   "cell_type": "markdown",
   "metadata": {},
   "source": [
    "To run this sample, from the *Cell* menu above, click *Run All*."
   ]
  },
  {
   "cell_type": "code",
   "execution_count": null,
   "metadata": {
    "collapsed": true
   },
   "outputs": [],
   "source": [
    "%matplotlib notebook"
   ]
  },
  {
   "cell_type": "code",
   "execution_count": null,
   "metadata": {
    "collapsed": true,
    "scrolled": true
   },
   "outputs": [],
   "source": [
    "\"\"\"\n",
    ":mod:`simplelife` cashflow\n",
    "==========================\n",
    "\n",
    "Draw a graph of liability cashflows of a simple whole life policy\n",
    "\"\"\"\n",
    "import modelx as mx\n",
    "\n",
    "try:\n",
    "    import simplelife.simplelife as simplelife\n",
    "except ImportError:\n",
    "    import simplelife\n",
    "\n",
    "polid = 171\n",
    "proj = simplelife.build(load_saved=True).Projection[polid]\n",
    "\n",
    "vars = ['prj_incm_Premium',\n",
    "        'prj_bnft_Surrender',\n",
    "        'prj_bnft_Death',\n",
    "        'prj_exps_Maint',\n",
    "        'prj_exps_CommTotal',\n",
    "        'prj_exps_Acq']\n",
    "\n",
    "for cells in vars:\n",
    "    list(proj.cells[cells](t) for t in range(50))\n",
    "\n",
    "list(proj.prj_NetLiabilityCashflow[t] for t in range(50))\n",
    "\n",
    "\n",
    "# %% Code block for drawing graph\n",
    "import seaborn as sns\n",
    "sns.set()\n",
    "\n",
    "def draw_cashflow(proj):   \n",
    "    \n",
    "    cfs = proj.frame[vars].sort_index().dropna()\n",
    "    cfs[vars[1:]] = cfs[vars[1:]].mul(-1)   # Change outflows to negatives\n",
    "    \n",
    "    ncf = proj.prj_NetLiabilityCashflow.frame.sort_index()\n",
    "\n",
    "    axes = ncf.plot.line(marker='o', color='r')\n",
    "    cfs.plot(kind='bar', stacked=True, ax=axes)\n",
    "\n",
    "# %% Main\n",
    "if __name__ == '__main__':\n",
    "    draw_cashflow(proj)\n"
   ]
  }
 ],
 "metadata": {
  "celltoolbar": "Raw Cell Format",
  "kernelspec": {
   "display_name": "Python 3",
   "language": "python",
   "name": "python3"
  },
  "language_info": {
   "codemirror_mode": {
    "name": "ipython",
    "version": 3
   },
   "file_extension": ".py",
   "mimetype": "text/x-python",
   "name": "python",
   "nbconvert_exporter": "python",
   "pygments_lexer": "ipython3",
   "version": "3.6.4"
  }
 },
 "nbformat": 4,
 "nbformat_minor": 2
}
