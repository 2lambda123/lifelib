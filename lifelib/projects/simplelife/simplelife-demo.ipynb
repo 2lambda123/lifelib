{
 "cells": [
  {
   "cell_type": "markdown",
   "metadata": {},
   "source": [
    "To run this sample, from the *Cell* menu above, click *Run All*."
   ]
  },
  {
   "cell_type": "code",
   "execution_count": null,
   "metadata": {
    "collapsed": true
   },
   "outputs": [],
   "source": [
    "%matplotlib notebook"
   ]
  },
  {
   "cell_type": "code",
   "execution_count": null,
   "metadata": {
    "scrolled": true
   },
   "outputs": [],
   "source": [
    "\"\"\"\n",
    ":mod:`simplelife` cashflow\n",
    "==========================\n",
    "\n",
    "Draw a graph of liability cashflows of a simple whole life policy\n",
    "\n",
    "*Run this sample now!* |binder simplelife_demo|\n",
    "\n",
    ".. include:: /binderlinks.rst\n",
    "   :start-after: Begin binder simplelife_demo\n",
    "   :end-before: End binder simplelife_demo\n",
    "\n",
    "\"\"\"\n",
    "import pandas as pd\n",
    "import modelx as mx\n",
    "import seaborn as sns\n",
    "sns.set()\n",
    "\n",
    "import simplelife\n",
    "\n",
    "polid = 171\n",
    "proj = simplelife.build(True).Projection[polid]\n",
    "\n",
    "# %% Draw NetCashflows Graph\n",
    "data = {'NetCashflows': [proj.prj_NetLiabilityCashflow[t] for t in range(50)]}\n",
    "ax = pd.DataFrame(data).plot.line(marker='o', color='r')\n",
    "\n",
    "# %% Draw componets of net cashflows\n",
    "\n",
    "vars = ['prj_incm_Premium',\n",
    "        'prj_bnft_Surrender',\n",
    "        'prj_bnft_Death',\n",
    "        'prj_exps_Maint',\n",
    "        'prj_exps_CommTotal',\n",
    "        'prj_exps_Acq']\n",
    "\n",
    "\n",
    "df = proj.cells[vars].to_frame(range(50))\n",
    "\n",
    "df[vars[1:]] = df[vars[1:]].mul(-1)   # Change outflows to negatives\n",
    "df.plot(kind='bar', stacked=True, ax=ax, title='Insurance Cashflows')"
   ]
  }
 ],
 "metadata": {
  "celltoolbar": "Raw Cell Format",
  "kernelspec": {
   "display_name": "Python 3",
   "language": "python",
   "name": "python3"
  },
  "language_info": {
   "codemirror_mode": {
    "name": "ipython",
    "version": 3
   },
   "file_extension": ".py",
   "mimetype": "text/x-python",
   "name": "python",
   "nbconvert_exporter": "python",
   "pygments_lexer": "ipython3",
   "version": "3.6.4"
  }
 },
 "nbformat": 4,
 "nbformat_minor": 2
}
