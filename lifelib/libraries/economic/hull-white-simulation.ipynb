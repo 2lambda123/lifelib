{
 "cells": [
  {
   "cell_type": "markdown",
   "id": "5894bc31",
   "metadata": {},
   "source": [
    "# Overview of BasicHullWhite\n",
    "\n",
    "The [Hull-White model](https://en.wikipedia.org/wiki/Hull%E2%80%93White_model) is a short rate model represented by the stochastic differential equiation:\n",
    "\n",
    " $$dr(t) = (\\theta(t) - a r(t))dt + \\sigma dW$$\n",
    "\n",
    "\n",
    "`BasicHullWhite` in the **economic** library is a simple implementation of the Hull-White model built using [modelx](https://github.com/fumitoh/modelx).\n",
    "\n",
    "`BasicHullWhite` preforms Monte-Carlo simulations and generates paths of the instantaneous short rate based on the Hull-White model. It also inclues formulas to calculate various properties of the Hull-White model.\n",
    "\n",
    "[Gouthaman Balaraman] presents some tests performed on a Hull-White model. He uses QuantLib to build his model, but the `BasicHullWhite` does not use QuantLib, and its Monte-Carlo simulations are generated from first principles using random numbers following the standard normal distribution. \n",
    "In addition, `BasicHullWhite` generates values of stochastic variable at each time step at once as a numpy array based on the vector modeling approach.\n",
    "\n",
    "This notebook aims to perform analyses similar to Balaraman's using `BasicHullWhite`.  \n",
    "\n",
    "\n",
    "[Gouthaman Balaraman]: http://gouthamanbalaraman.com/blog/hull-white-simulation-quantlib-python.html\n",
    "\n",
    "\n",
    "<div class=\"alert alert-block alert-info\">\n",
    "    \n",
    "**References**\n",
    "\n",
    "* [Gouthaman Balaraman. Hull White Term Structure Simulations with QuantLib Python](http://gouthamanbalaraman.com/blog/hull-white-simulation-quantlib-python.html)\n",
    "* [Gouthaman Balaraman. On the Convergence of Hull White Monte Carlo Simulations](http://gouthamanbalaraman.com/blog/hull-white-simulation-monte-carlo-convergence.html)    \n",
    "* [Damiano Brigo, Fabio Mercurio (2006). Interest Rate Models - Theory and Practice with Smile, Inflation and Credit, 2nd ed.](https://link.springer.com/book/10.1007/978-3-540-34604-3)\n",
    "* [Paul Glasserman (2003). Monte Carlo Methods in Financial Engineering](https://link.springer.com/book/10.1007/978-0-387-21617-1)\n",
    "\n",
    "\n",
    "</div>\n",
    "\n",
    "\n"
   ]
  },
  {
   "cell_type": "markdown",
   "id": "3e70ecf0",
   "metadata": {},
   "source": [
    "## Overview of the model\n",
    "\n",
    "`HullWiteModel` include only one space, which is named `HullWhite`, and all the definitions are in that space. The `HullWhite` space is assined to `HW` in this notebook."
   ]
  },
  {
   "cell_type": "code",
   "execution_count": null,
   "id": "bd39830d",
   "metadata": {},
   "outputs": [],
   "source": [
    "import matplotlib.pyplot as plt\n",
    "import modelx as mx\n",
    "\n",
    "model = mx.read_model('BasicHullWhite')\n",
    "HW = model.HullWhite"
   ]
  },
  {
   "cell_type": "markdown",
   "id": "0856413a",
   "metadata": {},
   "source": [
    "All the input parameters except for the initial curve are given as *References* (names starting with \"_\" are default names defined by modelx). "
   ]
  },
  {
   "cell_type": "code",
   "execution_count": null,
   "id": "da0a349b",
   "metadata": {},
   "outputs": [],
   "source": [
    "HW.refs"
   ]
  },
  {
   "cell_type": "markdown",
   "id": "80e9824f",
   "metadata": {},
   "source": [
    "The defalut values for the number of scenarios, length of time ($T$), number of steps, $a$, $\\sigma$ are set equal to the Balaraman's example."
   ]
  },
  {
   "cell_type": "code",
   "execution_count": null,
   "id": "853a5fe1",
   "metadata": {},
   "outputs": [],
   "source": [
    "print(\"Number of scenarios:\", HW.scen_size)\n",
    "print(\"Length of time (in years):\", HW.time_len)\n",
    "print(\"Number of steps:\", HW.step_size)\n",
    "print(\"a:\", HW.a)\n",
    "print(\"sigma:\", HW.sigma)"
   ]
  },
  {
   "cell_type": "markdown",
   "id": "c9db74dc",
   "metadata": {},
   "source": [
    "Below is a list of cells defined in `HW`. "
   ]
  },
  {
   "cell_type": "code",
   "execution_count": null,
   "id": "5448ca15",
   "metadata": {},
   "outputs": [],
   "source": [
    "HW.cells"
   ]
  },
  {
   "cell_type": "markdown",
   "id": "c76bea80",
   "metadata": {},
   "source": [
    "Time-dependent functions are paremeterized with integer indexes instead of times themselves, \n",
    "i.e. $f(t)$ where $t=t_i, i=1, 2, 3, \\ldots$ in math expression is translated as `f(i)`, `i=1, 2, 3...` in modelx formula.\n",
    "Mapping $i$ to $t_i$ is done by `t_(i)`. By defalut, $t_i$s are evenly spaced, but the model should work even if the intervals are set uneven."
   ]
  },
  {
   "cell_type": "code",
   "execution_count": null,
   "id": "66cfc15a",
   "metadata": {},
   "outputs": [],
   "source": [
    "HW.t_.formula"
   ]
  },
  {
   "cell_type": "markdown",
   "id": "5f688053",
   "metadata": {},
   "source": [
    "By default, the instanteneous forward rates observed at time 0 ($f^M(0, t_i)$) are set to 0.05 in `mkt_fwd` to be consistent with the Balaraman's example. $P^M(0, t_i)$, the market prices of zero-coupon bonds by duration are calculated from $f^M(0, t_i)$ in `mkt_zcb`. These may be defined the other way around, i.e. $f^M(0, t_i)$ may be derived from $P^M(0, t_i)$ inputs. The forward rates don't have to be constant."
   ]
  },
  {
   "cell_type": "code",
   "execution_count": null,
   "id": "d50e2889",
   "metadata": {},
   "outputs": [],
   "source": [
    "HW.mkt_fwd.formula"
   ]
  },
  {
   "cell_type": "code",
   "execution_count": null,
   "id": "fb61ea42",
   "metadata": {},
   "outputs": [],
   "source": [
    "HW.mkt_zcb.formula"
   ]
  },
  {
   "cell_type": "markdown",
   "id": "88ca3de3",
   "metadata": {},
   "source": [
    "`short_rate` corresponds to $r(t_{i})$, and recursively calculates stochastic paths of the instantaneous short rate at each time step."
   ]
  },
  {
   "cell_type": "code",
   "execution_count": null,
   "id": "f5d42e69",
   "metadata": {},
   "outputs": [],
   "source": [
    "HW.short_rate.formula"
   ]
  },
  {
   "cell_type": "markdown",
   "id": "8b28f6f7",
   "metadata": {},
   "source": [
    "Note that the initial stochastic differential equation, $dr(t) = (\\theta(t) - a r(t))dt + \\sigma dW$ is not used in this model.\n",
    "Rather, the model uses the fact that the Hull-White model is a Gaussian process, \n",
    "and $r(t^i)$ conditional on $\\mathcal{F}_{t_{i-1}} $ is normally distributed. `short_rate(i)` corresponds to the following expression\n",
    "\n",
    "$$r(t_i) = E\\{r(t_i) | \\mathcal{F}_{t_{i-1}}\\} + \\sqrt{Var\\{ r(t_i) | \\mathcal{F}_{t_{i-1}} \\}} * Z$$\n",
    "\n",
    "where $Z$ represents random samples drawn from $\\mathcal{N}(0, 1)$, the strandard normal distribution."
   ]
  },
  {
   "cell_type": "markdown",
   "id": "8651ebec",
   "metadata": {},
   "source": [
    "$E\\{r(t_j) | \\mathcal{F}_i\\}$, the mean of $r(t_j)$ conditional on $\\mathcal{F}_{t_i} $ is modeled as `E_rt_s(i, j)`. By replacing $t_{i}$ with $s$ and $t_{j}$ with $t$, the mean is expressed as:\n",
    "\n",
    "\n",
    "$$ E\\{r(t) | \\mathcal{F}_{s}\\} = r(s)e^{-a(t-s)}  + \\alpha(t) - \\alpha(s)e^{-a(t-s)} $$\n",
    "   where \n",
    "   $$ \\alpha(t) = f^M(0, t) + \\frac{\\sigma^2} {2a^2}(1-e^{-at})^2$$"
   ]
  },
  {
   "cell_type": "code",
   "execution_count": null,
   "id": "60fcf2f2",
   "metadata": {},
   "outputs": [],
   "source": [
    "HW.E_rt_s.formula"
   ]
  },
  {
   "cell_type": "code",
   "execution_count": null,
   "id": "b26d1172",
   "metadata": {},
   "outputs": [],
   "source": [
    "HW.E_rt.formula"
   ]
  },
  {
   "cell_type": "markdown",
   "id": "e048eb28",
   "metadata": {},
   "source": [
    "In the same way, $Var\\{r(t_{j}) | \\mathcal{F}_{t_i}\\}$, the variance of $r(t_j)$ conditional on $\\mathcal{F}_{t_i}$ is modeled as `Var_rt_s(i, j)`. With the same definitions for $s$, $t$, $\\alpha(t)$ as above, the variance is expressed as:\n",
    "\n",
    "$$ Var\\{ r(t) | \\mathcal{F}_s \\} = \\frac{\\sigma^2}{2a} (1 - e^{-2a(t-s)})$$\n"
   ]
  },
  {
   "cell_type": "code",
   "execution_count": null,
   "id": "080f961d",
   "metadata": {},
   "outputs": [],
   "source": [
    "HW.Var_rt_s.formula"
   ]
  },
  {
   "cell_type": "markdown",
   "id": "1bc419f2",
   "metadata": {},
   "source": [
    "Note that for each `i`, `short_rate(i)` returns a 1-dimensional numpy array having `scen_size` elements,\n",
    "and for each pair of `i` and `j`, both `E_rt_s(i, j)` and `Var_rt_s(i, j)` also return an array with `scen_size` elements. "
   ]
  },
  {
   "cell_type": "markdown",
   "id": "dca46262",
   "metadata": {},
   "source": [
    "$\\alpha(t_{i})$ is modeled as `alpha(i)`. `alpha(i)` doesn't vary by scenario, so it returns a single value for each `i`."
   ]
  },
  {
   "cell_type": "code",
   "execution_count": null,
   "id": "80339d01",
   "metadata": {},
   "outputs": [],
   "source": [
    "HW.alpha.formula"
   ]
  },
  {
   "cell_type": "markdown",
   "id": "4a5a37b8",
   "metadata": {},
   "source": [
    "## Simulating $r(t_i)$\n",
    "\n",
    "The chart below shows the first 10 paths of $r(t_i)$.\n",
    "`short_rate_paths()` is defined to return $r(t_i)$ for all the scenarios and all the tim steps in a 2-dimensional array."
   ]
  },
  {
   "cell_type": "code",
   "execution_count": null,
   "id": "8a28a393",
   "metadata": {},
   "outputs": [],
   "source": [
    "HW.short_rate_paths.formula"
   ]
  },
  {
   "cell_type": "code",
   "execution_count": null,
   "id": "824f6ee1",
   "metadata": {},
   "outputs": [],
   "source": [
    "for i in range(10):\n",
    "    plt.plot(range(HW.step_size+1), HW.short_rate_paths()[i])"
   ]
  },
  {
   "cell_type": "markdown",
   "id": "75a7a999",
   "metadata": {},
   "source": [
    "For each $t_i$, the mean of $r(t_i)$ should converge to $E\\{r(t_i) | \\mathcal{F}_{0}\\}$. For convenience, `mean_short_rate` and `E_rt` are defined to represent the mean of $r(t_i)$ and $E\\{r(t_i) | \\mathcal{F}_{0}\\}$ respectively."
   ]
  },
  {
   "cell_type": "code",
   "execution_count": null,
   "id": "50153c02",
   "metadata": {},
   "outputs": [],
   "source": [
    "HW.mean_short_rate.formula"
   ]
  },
  {
   "cell_type": "code",
   "execution_count": null,
   "id": "1beaed66",
   "metadata": {},
   "outputs": [],
   "source": [
    "HW.E_rt.formula"
   ]
  },
  {
   "cell_type": "markdown",
   "id": "dbde5f1c",
   "metadata": {},
   "source": [
    "The chart below compares the mean of $r(t_i)$ against $E\\{r(t_i) | \\mathcal{F}_{0}\\}$ with 1000 scenarios. The chart looks similar to Balaraman's analysis. The mean converges pretty well during the first 20 years (240 steps), but diverges from the expectation around the 300th step."
   ]
  },
  {
   "cell_type": "code",
   "execution_count": null,
   "id": "bab42dc4",
   "metadata": {},
   "outputs": [],
   "source": [
    "HW.scen_size = 1000\n",
    "plt.plot(range(HW.step_size + 1), HW.E_rt(), \"b-\")\n",
    "plt.plot(range(HW.step_size + 1), HW.mean_short_rate(), \"r--\")"
   ]
  },
  {
   "cell_type": "markdown",
   "id": "50adfb01",
   "metadata": {},
   "source": [
    "The chart below is with 10,000 scenarios. The divergence dissapears and the mean fits the expectation much better."
   ]
  },
  {
   "cell_type": "code",
   "execution_count": null,
   "id": "871056b7",
   "metadata": {},
   "outputs": [],
   "source": [
    "HW.scen_size = 10000\n",
    "HW.a = 0.1\n",
    "HW.sigma = 0.1\n",
    "plt.plot(range(HW.step_size + 1), HW.E_rt(), \"b-\")\n",
    "plt.plot(range(HW.step_size + 1), HW.mean_short_rate(), \"r--\")"
   ]
  },
  {
   "cell_type": "markdown",
   "id": "1c975725",
   "metadata": {},
   "source": [
    "In the same manner as the mean, for each $t_i$, the variance of $r(t_i)$ should converge to $Var\\{r(t_i) | \\mathcal{F}_{0}\\}$. For convenience, `var_short_rate` and `Var_rt` are defined to represent the variance of $r(t_i)$ and $Var\\{r(t_i) | \\mathcal{F}_{0}\\}$ respectively."
   ]
  },
  {
   "cell_type": "code",
   "execution_count": null,
   "id": "7aebb20c",
   "metadata": {},
   "outputs": [],
   "source": [
    "HW.var_short_rate.formula"
   ]
  },
  {
   "cell_type": "code",
   "execution_count": null,
   "id": "975d0644",
   "metadata": {},
   "outputs": [],
   "source": [
    "HW.Var_rt.formula"
   ]
  },
  {
   "cell_type": "code",
   "execution_count": null,
   "id": "423dcd7a",
   "metadata": {},
   "outputs": [],
   "source": [
    "HW.scen_size = 1000\n",
    "plt.plot(range(HW.step_size + 1), HW.Var_rt(), \"b-\")\n",
    "plt.plot(range(HW.step_size + 1), HW.var_short_rate(), \"r--\")"
   ]
  },
  {
   "cell_type": "code",
   "execution_count": null,
   "id": "0ff67c94",
   "metadata": {},
   "outputs": [],
   "source": [
    "HW.scen_size = 10000\n",
    "plt.plot(range(HW.step_size + 1), HW.Var_rt(), \"b-\")\n",
    "plt.plot(range(HW.step_size + 1), HW.var_short_rate(), \"r--\")"
   ]
  },
  {
   "cell_type": "markdown",
   "id": "d4f88b73",
   "metadata": {},
   "source": [
    "## Simulating the discount factor"
   ]
  },
  {
   "cell_type": "markdown",
   "id": "950401f4",
   "metadata": {},
   "source": [
    "Along with $r(t_{i})$, the discount factor needs to be simulated. The discount factor is defined as $e^{-Y(t_i)}$ where\n",
    "\n",
    "$$Y(t_i)=\\int_0^{t_i}r(t)dt$$\n",
    "\n",
    "For simplicity, we model $Y(t_i)$ as a descrete approximation to the integral:\n",
    "\n",
    "$$\\sum_{j=1}^{i}r(t_{j-1})(t_j-t_{j-1})$$"
   ]
  },
  {
   "cell_type": "code",
   "execution_count": null,
   "id": "63c8f842",
   "metadata": {},
   "outputs": [],
   "source": [
    "HW.accum_short_rate.formula"
   ]
  },
  {
   "cell_type": "markdown",
   "id": "c79984f0",
   "metadata": {},
   "source": [
    "There is an alternative approach to simulate $Y(t_i)$ by using the fact that $Y(t_i)$ follows a normal distribution, and by simulating the joint distribution of $(r(t_i), Y(t_i))$ as suggested in [Monte Carlo Methods in Financial Engineering](https://link.springer.com/book/10.1007/978-0-387-21617-1). `accum_short_rate2` implements this alternative approach, althogh it does not have material impact on the discussion below.  "
   ]
  },
  {
   "cell_type": "code",
   "execution_count": null,
   "id": "132cdae9",
   "metadata": {},
   "outputs": [],
   "source": [
    "HW.accum_short_rate2.formula"
   ]
  },
  {
   "cell_type": "markdown",
   "id": "85d20beb",
   "metadata": {},
   "source": [
    "`discount_factor` and `mean_disc_factor` are defined as follows."
   ]
  },
  {
   "cell_type": "code",
   "execution_count": null,
   "id": "d3a94e25",
   "metadata": {},
   "outputs": [],
   "source": [
    "HW.disc_factor.formula"
   ]
  },
  {
   "cell_type": "code",
   "execution_count": null,
   "id": "511e1583",
   "metadata": {},
   "outputs": [],
   "source": [
    "HW.mean_disc_factor.formula"
   ]
  },
  {
   "cell_type": "markdown",
   "id": "54082cfa",
   "metadata": {},
   "source": [
    "The chart below compares the mean of the simulated discount factors against $P^M(0, t_i)$ with 1000 scenarios. The mean diverges from the expectation significantly after the 150th step."
   ]
  },
  {
   "cell_type": "code",
   "execution_count": null,
   "id": "a5430a48",
   "metadata": {
    "scrolled": true
   },
   "outputs": [],
   "source": [
    "HW.scen_size = 1000\n",
    "plt.plot(range(HW.step_size+1), [HW.mkt_zcb(i) for i in range(HW.step_size+1)], \"b-\")\n",
    "plt.plot(range(HW.step_size+1), HW.mean_disc_factor(), \"r--\")"
   ]
  },
  {
   "cell_type": "markdown",
   "id": "797cddbb",
   "metadata": {},
   "source": [
    "The chart shows the case of 10,000 scenarios. The stochastic mean does not converge well. Even with 100,000 scenarios, the convergence is still poor."
   ]
  },
  {
   "cell_type": "code",
   "execution_count": null,
   "id": "527baff8",
   "metadata": {},
   "outputs": [],
   "source": [
    "HW.scen_size = 10000\n",
    "plt.plot(range(HW.step_size+1), [HW.mkt_zcb(i) for i in range(HW.step_size+1)], \"b-\")\n",
    "plt.plot(range(HW.step_size+1), HW.mean_disc_factor(), \"r--\")"
   ]
  },
  {
   "cell_type": "markdown",
   "id": "19df009a",
   "metadata": {},
   "source": [
    "The charts below examine the convergence of the discount factor for various combinations of $\\sigma$ and $a$, first by changing $\\sigma$ and secondly by changing $a$.\n",
    "As Balaraman's study shows, the convergence gets worse as $\\sigma/a$ gets larger than 1, and gets better as $\\sigma/a$ gets smaller than 1."
   ]
  },
  {
   "cell_type": "code",
   "execution_count": null,
   "id": "8e446619",
   "metadata": {},
   "outputs": [],
   "source": [
    "HW.scen_size = 1000\n",
    "\n",
    "fig, axs = plt.subplots(2, 2, sharex=True, sharey=True)\n",
    "fig.suptitle(r\"$a=$\" + str(HW.a))\n",
    "for sigma, (h, v) in zip([0.05, 0.075, 0.1, 0.125], [(0, 0), (0, 1), (1, 0), (1, 1)]):\n",
    "    HW.sigma = sigma\n",
    "    axs[h, v].set_title(r\"$\\sigma=$\" + str(sigma) +  r\", $\\sigma/a=$\" + \"%.2f\" % (sigma/HW.a))\n",
    "    axs[h, v].plot(range(HW.step_size+1), [HW.mkt_zcb(i) for i in range(HW.step_size+1)], \"b-\")\n",
    "    axs[h, v].plot(range(HW.step_size+1), HW.mean_disc_factor(), \"r--\")"
   ]
  },
  {
   "cell_type": "code",
   "execution_count": null,
   "id": "71a47989",
   "metadata": {},
   "outputs": [],
   "source": [
    "HW.scen_size = 1000\n",
    "HW.sigma = 0.1\n",
    "\n",
    "fig, axs = plt.subplots(2, 2, sharex=True, sharey=True)\n",
    "fig.suptitle(r\"$\\sigma=$\" + str(HW.sigma))\n",
    "for a, (h, v) in zip([0.05, 0.1, 0.15, 0.2], [(0, 0), (0, 1), (1, 0), (1, 1)]):\n",
    "    HW.a = a\n",
    "    axs[h, v].set_title(r\"$a=$\" + str(a) +  r\", $\\sigma/a=$\" + \"%.2f\" % (HW.sigma/HW.a))\n",
    "    axs[h, v].plot(range(HW.step_size+1), [HW.mkt_zcb(i) for i in range(HW.step_size+1)], \"b-\")\n",
    "    axs[h, v].plot(range(HW.step_size+1), HW.mean_disc_factor(), \"r--\")"
   ]
  }
 ],
 "metadata": {
  "kernelspec": {
   "display_name": "Python 3 (ipykernel)",
   "language": "python",
   "name": "python3"
  },
  "language_info": {
   "codemirror_mode": {
    "name": "ipython",
    "version": 3
   },
   "file_extension": ".py",
   "mimetype": "text/x-python",
   "name": "python",
   "nbconvert_exporter": "python",
   "pygments_lexer": "ipython3",
   "version": "3.9.7"
  }
 },
 "nbformat": 4,
 "nbformat_minor": 5
}
