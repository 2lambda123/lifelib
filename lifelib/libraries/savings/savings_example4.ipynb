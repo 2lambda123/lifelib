{
 "cells": [
  {
   "cell_type": "markdown",
   "id": "9400df98",
   "metadata": {},
   "source": [
    "# 4. Optimizing and profiling the model\n",
    "\n",
    "TODO: Add description"
   ]
  },
  {
   "cell_type": "code",
   "execution_count": 1,
   "id": "6ad58376",
   "metadata": {},
   "outputs": [],
   "source": [
    "import timeit\n",
    "import pandas as pd\n",
    "import modelx as mx"
   ]
  },
  {
   "cell_type": "code",
   "execution_count": 2,
   "id": "a1653a3f",
   "metadata": {},
   "outputs": [],
   "source": [
    "ex1 = mx.read_model('CashValue_ME_EX1') "
   ]
  },
  {
   "cell_type": "code",
   "execution_count": 3,
   "id": "55aaff8b",
   "metadata": {},
   "outputs": [
    {
     "data": {
      "text/plain": [
       "1.2689610000234097"
      ]
     },
     "execution_count": 3,
     "metadata": {},
     "output_type": "execute_result"
    }
   ],
   "source": [
    "timeit.timeit('ex1.Projection.result_pv()', globals=globals(), number=1)"
   ]
  },
  {
   "cell_type": "code",
   "execution_count": 4,
   "id": "cc320585",
   "metadata": {},
   "outputs": [],
   "source": [
    "ex1.clear_all()"
   ]
  },
  {
   "cell_type": "code",
   "execution_count": 5,
   "id": "759cb684",
   "metadata": {},
   "outputs": [],
   "source": [
    "ex4 = mx.read_model('CashValue_ME_EX4') "
   ]
  },
  {
   "cell_type": "code",
   "execution_count": 6,
   "id": "e9caf8ae",
   "metadata": {},
   "outputs": [
    {
     "data": {
      "text/plain": [
       "0.526920499978587"
      ]
     },
     "execution_count": 6,
     "metadata": {},
     "output_type": "execute_result"
    }
   ],
   "source": [
    "timeit.timeit('ex4.Projection.result_pv()', globals=globals(), number=1)"
   ]
  },
  {
   "cell_type": "code",
   "execution_count": 7,
   "id": "eaa6268e",
   "metadata": {},
   "outputs": [],
   "source": [
    "ex4.clear_all()"
   ]
  },
  {
   "cell_type": "markdown",
   "id": "952262b9",
   "metadata": {},
   "source": [
    "TODO: Add description"
   ]
  },
  {
   "cell_type": "markdown",
   "id": "e7a25c30",
   "metadata": {},
   "source": [
    "## Testing with 100,000 scenarios\n",
    "\n",
    "TODO: Add description\n",
    "\n",
    "<div class=\"alert alert-warning\">\n",
    "\n",
    "**Warning:**\n",
    "\n",
    "takes about 4GB of memory space \n",
    "    \n",
    "</div>"
   ]
  },
  {
   "cell_type": "code",
   "execution_count": 8,
   "id": "42ef0104",
   "metadata": {},
   "outputs": [],
   "source": [
    "ex1.Projection.scen_size = 100_000"
   ]
  },
  {
   "cell_type": "code",
   "execution_count": 9,
   "id": "66cc75a8",
   "metadata": {},
   "outputs": [
    {
     "data": {
      "text/plain": [
       "7.84547259984538"
      ]
     },
     "execution_count": 9,
     "metadata": {},
     "output_type": "execute_result"
    }
   ],
   "source": [
    "timeit.timeit('ex1.Projection.result_pv()', globals=globals(), number=1)"
   ]
  },
  {
   "cell_type": "code",
   "execution_count": 10,
   "id": "be375753",
   "metadata": {},
   "outputs": [],
   "source": [
    "ex1.clear_all()"
   ]
  },
  {
   "cell_type": "code",
   "execution_count": 11,
   "id": "a911b29b",
   "metadata": {},
   "outputs": [],
   "source": [
    "ex4.Projection.scen_size = 100_000"
   ]
  },
  {
   "cell_type": "code",
   "execution_count": 12,
   "id": "0026cc1c",
   "metadata": {},
   "outputs": [
    {
     "data": {
      "text/plain": [
       "3.8828028000425547"
      ]
     },
     "execution_count": 12,
     "metadata": {},
     "output_type": "execute_result"
    }
   ],
   "source": [
    "timeit.timeit('ex4.Projection.result_pv()', globals=globals(), number=1)"
   ]
  },
  {
   "cell_type": "code",
   "execution_count": 13,
   "id": "caee567e",
   "metadata": {},
   "outputs": [],
   "source": [
    "ex4.clear_all()"
   ]
  },
  {
   "cell_type": "markdown",
   "id": "2ba009d9",
   "metadata": {},
   "source": [
    "## Profile the runs\n",
    "\n",
    "TODO: Add description"
   ]
  },
  {
   "cell_type": "code",
   "execution_count": 14,
   "id": "f36620bb",
   "metadata": {},
   "outputs": [],
   "source": [
    "def get_time_info(model):\n",
    "    \n",
    "    try:\n",
    "        mx.start_stacktrace(maxlen=None)\n",
    "        model.Projection.result_pv()\n",
    "        df = pd.DataFrame.from_dict(\n",
    "            mx.get_stacktrace(summarize=True), orient=\"index\")\n",
    "    finally:\n",
    "        mx.stop_stacktrace()\n",
    "        model.clear_all()\n",
    "\n",
    "    # Remove model and space names from index\n",
    "    prefixlen = len(model.name + '.Projection.')\n",
    "    df.index = [s[prefixlen:] for s in df.index]     \n",
    "\n",
    "    # Add duration %\n",
    "    total = df['duration'].sum()\n",
    "    df['dur_perc'] = df['duration'] * 100 / total\n",
    "    \n",
    "    return df.sort_values(['dur_perc'], ascending=False)"
   ]
  },
  {
   "cell_type": "code",
   "execution_count": 15,
   "id": "93a54ef2",
   "metadata": {
    "scrolled": true
   },
   "outputs": [
    {
     "name": "stderr",
     "output_type": "stream",
     "text": [
      "UserWarning: call stack trace activated\n",
      "UserWarning: call stack trace deactivated\n"
     ]
    },
    {
     "data": {
      "text/html": [
       "<div>\n",
       "<style scoped>\n",
       "    .dataframe tbody tr th:only-of-type {\n",
       "        vertical-align: middle;\n",
       "    }\n",
       "\n",
       "    .dataframe tbody tr th {\n",
       "        vertical-align: top;\n",
       "    }\n",
       "\n",
       "    .dataframe thead th {\n",
       "        text-align: right;\n",
       "    }\n",
       "</style>\n",
       "<table border=\"1\" class=\"dataframe\">\n",
       "  <thead>\n",
       "    <tr style=\"text-align: right;\">\n",
       "      <th></th>\n",
       "      <th>duration</th>\n",
       "      <th>dur_perc</th>\n",
       "    </tr>\n",
       "  </thead>\n",
       "  <tbody>\n",
       "    <tr>\n",
       "      <th>surr_charge_rate(t)</th>\n",
       "      <td>0.626154</td>\n",
       "      <td>36.491786</td>\n",
       "    </tr>\n",
       "    <tr>\n",
       "      <th>inv_return_mth(t)</th>\n",
       "      <td>0.291798</td>\n",
       "      <td>17.005771</td>\n",
       "    </tr>\n",
       "    <tr>\n",
       "      <th>premium_pp(t)</th>\n",
       "      <td>0.206414</td>\n",
       "      <td>12.029663</td>\n",
       "    </tr>\n",
       "    <tr>\n",
       "      <th>claim_pp(t, kind)</th>\n",
       "      <td>0.077510</td>\n",
       "      <td>4.517216</td>\n",
       "    </tr>\n",
       "    <tr>\n",
       "      <th>claims(t, kind)</th>\n",
       "      <td>0.063502</td>\n",
       "      <td>3.700866</td>\n",
       "    </tr>\n",
       "    <tr>\n",
       "      <th>pols_if_at(t, timing)</th>\n",
       "      <td>0.038705</td>\n",
       "      <td>2.255718</td>\n",
       "    </tr>\n",
       "    <tr>\n",
       "      <th>av_pp_at(t, timing)</th>\n",
       "      <td>0.034805</td>\n",
       "      <td>2.028384</td>\n",
       "    </tr>\n",
       "    <tr>\n",
       "      <th>inv_return_table()</th>\n",
       "      <td>0.031250</td>\n",
       "      <td>1.821226</td>\n",
       "    </tr>\n",
       "    <tr>\n",
       "      <th>expenses(t)</th>\n",
       "      <td>0.029133</td>\n",
       "      <td>1.697868</td>\n",
       "    </tr>\n",
       "    <tr>\n",
       "      <th>inv_income(t)</th>\n",
       "      <td>0.027631</td>\n",
       "      <td>1.610330</td>\n",
       "    </tr>\n",
       "  </tbody>\n",
       "</table>\n",
       "</div>"
      ],
      "text/plain": [
       "                       duration   dur_perc\n",
       "surr_charge_rate(t)    0.626154  36.491786\n",
       "inv_return_mth(t)      0.291798  17.005771\n",
       "premium_pp(t)          0.206414  12.029663\n",
       "claim_pp(t, kind)      0.077510   4.517216\n",
       "claims(t, kind)        0.063502   3.700866\n",
       "pols_if_at(t, timing)  0.038705   2.255718\n",
       "av_pp_at(t, timing)    0.034805   2.028384\n",
       "inv_return_table()     0.031250   1.821226\n",
       "expenses(t)            0.029133   1.697868\n",
       "inv_income(t)          0.027631   1.610330"
      ]
     },
     "execution_count": 15,
     "metadata": {},
     "output_type": "execute_result"
    }
   ],
   "source": [
    "ex1.Projection.scen_size = 10_000\n",
    "df1 = get_time_info(ex1)\n",
    "df1[['duration', 'dur_perc']].iloc[:10]"
   ]
  },
  {
   "cell_type": "code",
   "execution_count": 16,
   "id": "00a0f818",
   "metadata": {
    "scrolled": true
   },
   "outputs": [
    {
     "name": "stderr",
     "output_type": "stream",
     "text": [
      "UserWarning: call stack trace activated\n",
      "UserWarning: call stack trace deactivated\n"
     ]
    },
    {
     "data": {
      "text/html": [
       "<div>\n",
       "<style scoped>\n",
       "    .dataframe tbody tr th:only-of-type {\n",
       "        vertical-align: middle;\n",
       "    }\n",
       "\n",
       "    .dataframe tbody tr th {\n",
       "        vertical-align: top;\n",
       "    }\n",
       "\n",
       "    .dataframe thead th {\n",
       "        text-align: right;\n",
       "    }\n",
       "</style>\n",
       "<table border=\"1\" class=\"dataframe\">\n",
       "  <thead>\n",
       "    <tr style=\"text-align: right;\">\n",
       "      <th></th>\n",
       "      <th>duration</th>\n",
       "      <th>dur_perc</th>\n",
       "    </tr>\n",
       "  </thead>\n",
       "  <tbody>\n",
       "    <tr>\n",
       "      <th>surr_charge_rate(t)</th>\n",
       "      <td>0.204015</td>\n",
       "      <td>37.341396</td>\n",
       "    </tr>\n",
       "    <tr>\n",
       "      <th>premium_pp(t)</th>\n",
       "      <td>0.115471</td>\n",
       "      <td>21.134984</td>\n",
       "    </tr>\n",
       "    <tr>\n",
       "      <th>pv_claims(kind)</th>\n",
       "      <td>0.031336</td>\n",
       "      <td>5.735535</td>\n",
       "    </tr>\n",
       "    <tr>\n",
       "      <th>inv_return_table()</th>\n",
       "      <td>0.023608</td>\n",
       "      <td>4.320994</td>\n",
       "    </tr>\n",
       "    <tr>\n",
       "      <th>lapse_rate(t)</th>\n",
       "      <td>0.022686</td>\n",
       "      <td>4.152201</td>\n",
       "    </tr>\n",
       "    <tr>\n",
       "      <th>prem_to_av_pp(t)</th>\n",
       "      <td>0.018686</td>\n",
       "      <td>3.420122</td>\n",
       "    </tr>\n",
       "    <tr>\n",
       "      <th>av_change(t)</th>\n",
       "      <td>0.016086</td>\n",
       "      <td>2.944244</td>\n",
       "    </tr>\n",
       "    <tr>\n",
       "      <th>commissions(t)</th>\n",
       "      <td>0.015623</td>\n",
       "      <td>2.859585</td>\n",
       "    </tr>\n",
       "    <tr>\n",
       "      <th>premiums(t)</th>\n",
       "      <td>0.015507</td>\n",
       "      <td>2.838290</td>\n",
       "    </tr>\n",
       "    <tr>\n",
       "      <th>std_norm_rand()</th>\n",
       "      <td>0.012620</td>\n",
       "      <td>2.309915</td>\n",
       "    </tr>\n",
       "  </tbody>\n",
       "</table>\n",
       "</div>"
      ],
      "text/plain": [
       "                     duration   dur_perc\n",
       "surr_charge_rate(t)  0.204015  37.341396\n",
       "premium_pp(t)        0.115471  21.134984\n",
       "pv_claims(kind)      0.031336   5.735535\n",
       "inv_return_table()   0.023608   4.320994\n",
       "lapse_rate(t)        0.022686   4.152201\n",
       "prem_to_av_pp(t)     0.018686   3.420122\n",
       "av_change(t)         0.016086   2.944244\n",
       "commissions(t)       0.015623   2.859585\n",
       "premiums(t)          0.015507   2.838290\n",
       "std_norm_rand()      0.012620   2.309915"
      ]
     },
     "execution_count": 16,
     "metadata": {},
     "output_type": "execute_result"
    }
   ],
   "source": [
    "ex4.Projection.scen_size = 10_000\n",
    "df4 = get_time_info(ex4)\n",
    "df4[['duration', 'dur_perc']].iloc[:10]"
   ]
  },
  {
   "cell_type": "code",
   "execution_count": 17,
   "id": "63b6dff5",
   "metadata": {
    "scrolled": true
   },
   "outputs": [
    {
     "data": {
      "text/html": [
       "<div>\n",
       "<style scoped>\n",
       "    .dataframe tbody tr th:only-of-type {\n",
       "        vertical-align: middle;\n",
       "    }\n",
       "\n",
       "    .dataframe tbody tr th {\n",
       "        vertical-align: top;\n",
       "    }\n",
       "\n",
       "    .dataframe thead th {\n",
       "        text-align: right;\n",
       "    }\n",
       "</style>\n",
       "<table border=\"1\" class=\"dataframe\">\n",
       "  <thead>\n",
       "    <tr style=\"text-align: right;\">\n",
       "      <th></th>\n",
       "      <th>df1</th>\n",
       "      <th>df4</th>\n",
       "    </tr>\n",
       "  </thead>\n",
       "  <tbody>\n",
       "    <tr>\n",
       "      <th>surr_charge_rate(t)</th>\n",
       "      <td>0.626154</td>\n",
       "      <td>0.204015</td>\n",
       "    </tr>\n",
       "    <tr>\n",
       "      <th>inv_return_mth(t)</th>\n",
       "      <td>0.291798</td>\n",
       "      <td>0.002037</td>\n",
       "    </tr>\n",
       "    <tr>\n",
       "      <th>premium_pp(t)</th>\n",
       "      <td>0.206414</td>\n",
       "      <td>0.115471</td>\n",
       "    </tr>\n",
       "    <tr>\n",
       "      <th>claim_pp(t, kind)</th>\n",
       "      <td>0.077510</td>\n",
       "      <td>0.002008</td>\n",
       "    </tr>\n",
       "    <tr>\n",
       "      <th>claims(t, kind)</th>\n",
       "      <td>0.063502</td>\n",
       "      <td>0.000000</td>\n",
       "    </tr>\n",
       "  </tbody>\n",
       "</table>\n",
       "</div>"
      ],
      "text/plain": [
       "                          df1       df4\n",
       "surr_charge_rate(t)  0.626154  0.204015\n",
       "inv_return_mth(t)    0.291798  0.002037\n",
       "premium_pp(t)        0.206414  0.115471\n",
       "claim_pp(t, kind)    0.077510  0.002008\n",
       "claims(t, kind)      0.063502  0.000000"
      ]
     },
     "execution_count": 17,
     "metadata": {},
     "output_type": "execute_result"
    }
   ],
   "source": [
    "df = pd.concat([df1[['duration']], df4[['duration']]], axis=1)\n",
    "df.columns = ['df1', 'df4']\n",
    "df.loc[(df['df1'] > 0.05) | (df['df4'] > 0.05)]"
   ]
  }
 ],
 "metadata": {
  "kernelspec": {
   "display_name": "Python 3 (ipykernel)",
   "language": "python",
   "name": "python3"
  },
  "language_info": {
   "codemirror_mode": {
    "name": "ipython",
    "version": 3
   },
   "file_extension": ".py",
   "mimetype": "text/x-python",
   "name": "python",
   "nbconvert_exporter": "python",
   "pygments_lexer": "ipython3",
   "version": "3.10.6"
  }
 },
 "nbformat": 4,
 "nbformat_minor": 5
}
