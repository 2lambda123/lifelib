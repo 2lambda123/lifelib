{
 "cells": [
  {
   "cell_type": "markdown",
   "id": "9400df98",
   "metadata": {},
   "source": [
    "# 4. Optimizing and profiling the model\n",
    "\n",
    "TODO: Add description"
   ]
  },
  {
   "cell_type": "code",
   "execution_count": 1,
   "id": "6ad58376",
   "metadata": {},
   "outputs": [],
   "source": [
    "import timeit\n",
    "import pandas as pd\n",
    "import modelx as mx"
   ]
  },
  {
   "cell_type": "code",
   "execution_count": 2,
   "id": "a1653a3f",
   "metadata": {},
   "outputs": [],
   "source": [
    "ex1 = mx.read_model('CashValue_ME_EX1') "
   ]
  },
  {
   "cell_type": "code",
   "execution_count": 3,
   "id": "55aaff8b",
   "metadata": {},
   "outputs": [
    {
     "data": {
      "text/plain": [
       "1.2499775000000004"
      ]
     },
     "execution_count": 3,
     "metadata": {},
     "output_type": "execute_result"
    }
   ],
   "source": [
    "timeit.timeit('ex1.Projection.result_pv()', globals=globals(), number=1)"
   ]
  },
  {
   "cell_type": "code",
   "execution_count": 4,
   "id": "cc320585",
   "metadata": {},
   "outputs": [],
   "source": [
    "ex1.clear_all()"
   ]
  },
  {
   "cell_type": "code",
   "execution_count": 5,
   "id": "759cb684",
   "metadata": {},
   "outputs": [],
   "source": [
    "ex4 = mx.read_model('CashValue_ME_EX4') "
   ]
  },
  {
   "cell_type": "code",
   "execution_count": 6,
   "id": "e9caf8ae",
   "metadata": {},
   "outputs": [
    {
     "data": {
      "text/plain": [
       "0.2862044000000008"
      ]
     },
     "execution_count": 6,
     "metadata": {},
     "output_type": "execute_result"
    }
   ],
   "source": [
    "timeit.timeit('ex4.Projection.result_pv()', globals=globals(), number=1)"
   ]
  },
  {
   "cell_type": "code",
   "execution_count": 7,
   "id": "eaa6268e",
   "metadata": {},
   "outputs": [],
   "source": [
    "ex4.clear_all()"
   ]
  },
  {
   "cell_type": "markdown",
   "id": "952262b9",
   "metadata": {},
   "source": [
    "TODO: Add description"
   ]
  },
  {
   "cell_type": "markdown",
   "id": "e7a25c30",
   "metadata": {},
   "source": [
    "## Testing with 100,000 scenarios\n",
    "\n",
    "TODO: Add description\n",
    "\n",
    "<div class=\"alert alert-warning\">\n",
    "\n",
    "**Warning:**\n",
    "\n",
    "takes about 4GB of memory space \n",
    "    \n",
    "</div>"
   ]
  },
  {
   "cell_type": "code",
   "execution_count": 8,
   "id": "42ef0104",
   "metadata": {},
   "outputs": [],
   "source": [
    "ex1.Projection.scen_size = 100_000"
   ]
  },
  {
   "cell_type": "code",
   "execution_count": 9,
   "id": "66cc75a8",
   "metadata": {},
   "outputs": [
    {
     "data": {
      "text/plain": [
       "8.0889741"
      ]
     },
     "execution_count": 9,
     "metadata": {},
     "output_type": "execute_result"
    }
   ],
   "source": [
    "timeit.timeit('ex1.Projection.result_pv()', globals=globals(), number=1)"
   ]
  },
  {
   "cell_type": "code",
   "execution_count": 10,
   "id": "be375753",
   "metadata": {},
   "outputs": [],
   "source": [
    "ex1.clear_all()"
   ]
  },
  {
   "cell_type": "code",
   "execution_count": 11,
   "id": "a911b29b",
   "metadata": {},
   "outputs": [],
   "source": [
    "ex4.Projection.scen_size = 100_000"
   ]
  },
  {
   "cell_type": "code",
   "execution_count": 12,
   "id": "0026cc1c",
   "metadata": {},
   "outputs": [
    {
     "data": {
      "text/plain": [
       "2.3929682999999997"
      ]
     },
     "execution_count": 12,
     "metadata": {},
     "output_type": "execute_result"
    }
   ],
   "source": [
    "timeit.timeit('ex4.Projection.result_pv()', globals=globals(), number=1)"
   ]
  },
  {
   "cell_type": "code",
   "execution_count": 13,
   "id": "caee567e",
   "metadata": {},
   "outputs": [],
   "source": [
    "ex4.clear_all()"
   ]
  },
  {
   "cell_type": "markdown",
   "id": "2ba009d9",
   "metadata": {},
   "source": [
    "## Profile the runs\n",
    "\n",
    "TODO: Add description"
   ]
  },
  {
   "cell_type": "code",
   "execution_count": 14,
   "id": "f36620bb",
   "metadata": {},
   "outputs": [],
   "source": [
    "def get_time_info(model):\n",
    "    \n",
    "    try:\n",
    "        mx.start_stacktrace(maxlen=None)\n",
    "        model.Projection.result_pv()\n",
    "        df = pd.DataFrame.from_dict(\n",
    "            mx.get_stacktrace(summarize=True), orient=\"index\")\n",
    "    finally:\n",
    "        mx.stop_stacktrace()\n",
    "        model.clear_all()\n",
    "\n",
    "    # Remove model and space names from index\n",
    "    prefixlen = len(model.name + '.Projection.')\n",
    "    df.index = [s[prefixlen:] for s in df.index]     \n",
    "\n",
    "    # Add duration %\n",
    "    total = df['duration'].sum()\n",
    "    df['dur_perc'] = df['duration'] * 100 / total\n",
    "    \n",
    "    return df.sort_values(['dur_perc'], ascending=False)"
   ]
  },
  {
   "cell_type": "code",
   "execution_count": 15,
   "id": "93a54ef2",
   "metadata": {
    "scrolled": true
   },
   "outputs": [
    {
     "name": "stderr",
     "output_type": "stream",
     "text": [
      "UserWarning: call stack trace activated\n",
      "UserWarning: call stack trace deactivated\n"
     ]
    },
    {
     "data": {
      "text/html": [
       "<div>\n",
       "<style scoped>\n",
       "    .dataframe tbody tr th:only-of-type {\n",
       "        vertical-align: middle;\n",
       "    }\n",
       "\n",
       "    .dataframe tbody tr th {\n",
       "        vertical-align: top;\n",
       "    }\n",
       "\n",
       "    .dataframe thead th {\n",
       "        text-align: right;\n",
       "    }\n",
       "</style>\n",
       "<table border=\"1\" class=\"dataframe\">\n",
       "  <thead>\n",
       "    <tr style=\"text-align: right;\">\n",
       "      <th></th>\n",
       "      <th>duration</th>\n",
       "      <th>dur_perc</th>\n",
       "    </tr>\n",
       "  </thead>\n",
       "  <tbody>\n",
       "    <tr>\n",
       "      <th>surr_charge_rate(t)</th>\n",
       "      <td>0.697034</td>\n",
       "      <td>39.238824</td>\n",
       "    </tr>\n",
       "    <tr>\n",
       "      <th>inv_return_mth(t)</th>\n",
       "      <td>0.338032</td>\n",
       "      <td>19.029207</td>\n",
       "    </tr>\n",
       "    <tr>\n",
       "      <th>premium_pp(t)</th>\n",
       "      <td>0.146663</td>\n",
       "      <td>8.256274</td>\n",
       "    </tr>\n",
       "    <tr>\n",
       "      <th>pols_new_biz(t)</th>\n",
       "      <td>0.069975</td>\n",
       "      <td>3.939195</td>\n",
       "    </tr>\n",
       "    <tr>\n",
       "      <th>inv_income_pp(t)</th>\n",
       "      <td>0.069556</td>\n",
       "      <td>3.915600</td>\n",
       "    </tr>\n",
       "    <tr>\n",
       "      <th>claims(t, kind)</th>\n",
       "      <td>0.064405</td>\n",
       "      <td>3.625641</td>\n",
       "    </tr>\n",
       "    <tr>\n",
       "      <th>expenses(t)</th>\n",
       "      <td>0.035827</td>\n",
       "      <td>2.016841</td>\n",
       "    </tr>\n",
       "    <tr>\n",
       "      <th>pols_maturity(t)</th>\n",
       "      <td>0.032865</td>\n",
       "      <td>1.850092</td>\n",
       "    </tr>\n",
       "    <tr>\n",
       "      <th>claim_pp(t, kind)</th>\n",
       "      <td>0.032804</td>\n",
       "      <td>1.846696</td>\n",
       "    </tr>\n",
       "    <tr>\n",
       "      <th>prem_to_av_pp(t)</th>\n",
       "      <td>0.031291</td>\n",
       "      <td>1.761523</td>\n",
       "    </tr>\n",
       "  </tbody>\n",
       "</table>\n",
       "</div>"
      ],
      "text/plain": [
       "                     duration   dur_perc\n",
       "surr_charge_rate(t)  0.697034  39.238824\n",
       "inv_return_mth(t)    0.338032  19.029207\n",
       "premium_pp(t)        0.146663   8.256274\n",
       "pols_new_biz(t)      0.069975   3.939195\n",
       "inv_income_pp(t)     0.069556   3.915600\n",
       "claims(t, kind)      0.064405   3.625641\n",
       "expenses(t)          0.035827   2.016841\n",
       "pols_maturity(t)     0.032865   1.850092\n",
       "claim_pp(t, kind)    0.032804   1.846696\n",
       "prem_to_av_pp(t)     0.031291   1.761523"
      ]
     },
     "execution_count": 15,
     "metadata": {},
     "output_type": "execute_result"
    }
   ],
   "source": [
    "ex1.Projection.scen_size = 10_000\n",
    "df1 = get_time_info(ex1)\n",
    "df1[['duration', 'dur_perc']].iloc[:10]"
   ]
  },
  {
   "cell_type": "code",
   "execution_count": 16,
   "id": "00a0f818",
   "metadata": {
    "scrolled": true
   },
   "outputs": [
    {
     "name": "stderr",
     "output_type": "stream",
     "text": [
      "UserWarning: call stack trace activated\n",
      "UserWarning: call stack trace deactivated\n"
     ]
    },
    {
     "data": {
      "text/html": [
       "<div>\n",
       "<style scoped>\n",
       "    .dataframe tbody tr th:only-of-type {\n",
       "        vertical-align: middle;\n",
       "    }\n",
       "\n",
       "    .dataframe tbody tr th {\n",
       "        vertical-align: top;\n",
       "    }\n",
       "\n",
       "    .dataframe thead th {\n",
       "        text-align: right;\n",
       "    }\n",
       "</style>\n",
       "<table border=\"1\" class=\"dataframe\">\n",
       "  <thead>\n",
       "    <tr style=\"text-align: right;\">\n",
       "      <th></th>\n",
       "      <th>duration</th>\n",
       "      <th>dur_perc</th>\n",
       "    </tr>\n",
       "  </thead>\n",
       "  <tbody>\n",
       "    <tr>\n",
       "      <th>premium_pp(t)</th>\n",
       "      <td>0.033878</td>\n",
       "      <td>10.744304</td>\n",
       "    </tr>\n",
       "    <tr>\n",
       "      <th>mort_rate_mth(t)</th>\n",
       "      <td>0.032263</td>\n",
       "      <td>10.231875</td>\n",
       "    </tr>\n",
       "    <tr>\n",
       "      <th>surr_charge_rate(t)</th>\n",
       "      <td>0.024496</td>\n",
       "      <td>7.768857</td>\n",
       "    </tr>\n",
       "    <tr>\n",
       "      <th>duration(t)</th>\n",
       "      <td>0.019624</td>\n",
       "      <td>6.223781</td>\n",
       "    </tr>\n",
       "    <tr>\n",
       "      <th>inv_return_table()</th>\n",
       "      <td>0.018503</td>\n",
       "      <td>5.868249</td>\n",
       "    </tr>\n",
       "    <tr>\n",
       "      <th>pv_claims(kind)</th>\n",
       "      <td>0.018216</td>\n",
       "      <td>5.776984</td>\n",
       "    </tr>\n",
       "    <tr>\n",
       "      <th>claims(t, kind)</th>\n",
       "      <td>0.018125</td>\n",
       "      <td>5.748327</td>\n",
       "    </tr>\n",
       "    <tr>\n",
       "      <th>av_at(t, timing)</th>\n",
       "      <td>0.016349</td>\n",
       "      <td>5.185010</td>\n",
       "    </tr>\n",
       "    <tr>\n",
       "      <th>prem_to_av_pp(t)</th>\n",
       "      <td>0.015626</td>\n",
       "      <td>4.955751</td>\n",
       "    </tr>\n",
       "    <tr>\n",
       "      <th>pols_new_biz(t)</th>\n",
       "      <td>0.015588</td>\n",
       "      <td>4.943653</td>\n",
       "    </tr>\n",
       "  </tbody>\n",
       "</table>\n",
       "</div>"
      ],
      "text/plain": [
       "                     duration   dur_perc\n",
       "premium_pp(t)        0.033878  10.744304\n",
       "mort_rate_mth(t)     0.032263  10.231875\n",
       "surr_charge_rate(t)  0.024496   7.768857\n",
       "duration(t)          0.019624   6.223781\n",
       "inv_return_table()   0.018503   5.868249\n",
       "pv_claims(kind)      0.018216   5.776984\n",
       "claims(t, kind)      0.018125   5.748327\n",
       "av_at(t, timing)     0.016349   5.185010\n",
       "prem_to_av_pp(t)     0.015626   4.955751\n",
       "pols_new_biz(t)      0.015588   4.943653"
      ]
     },
     "execution_count": 16,
     "metadata": {},
     "output_type": "execute_result"
    }
   ],
   "source": [
    "ex4.Projection.scen_size = 10_000\n",
    "df4 = get_time_info(ex4)\n",
    "df4[['duration', 'dur_perc']].iloc[:10]"
   ]
  },
  {
   "cell_type": "code",
   "execution_count": 17,
   "id": "63b6dff5",
   "metadata": {
    "scrolled": true
   },
   "outputs": [
    {
     "data": {
      "text/html": [
       "<div>\n",
       "<style scoped>\n",
       "    .dataframe tbody tr th:only-of-type {\n",
       "        vertical-align: middle;\n",
       "    }\n",
       "\n",
       "    .dataframe tbody tr th {\n",
       "        vertical-align: top;\n",
       "    }\n",
       "\n",
       "    .dataframe thead th {\n",
       "        text-align: right;\n",
       "    }\n",
       "</style>\n",
       "<table border=\"1\" class=\"dataframe\">\n",
       "  <thead>\n",
       "    <tr style=\"text-align: right;\">\n",
       "      <th></th>\n",
       "      <th>df1</th>\n",
       "      <th>df4</th>\n",
       "    </tr>\n",
       "  </thead>\n",
       "  <tbody>\n",
       "    <tr>\n",
       "      <th>surr_charge_rate(t)</th>\n",
       "      <td>0.697034</td>\n",
       "      <td>0.024496</td>\n",
       "    </tr>\n",
       "    <tr>\n",
       "      <th>inv_return_mth(t)</th>\n",
       "      <td>0.338032</td>\n",
       "      <td>0.000000</td>\n",
       "    </tr>\n",
       "    <tr>\n",
       "      <th>premium_pp(t)</th>\n",
       "      <td>0.146663</td>\n",
       "      <td>0.033878</td>\n",
       "    </tr>\n",
       "    <tr>\n",
       "      <th>pols_new_biz(t)</th>\n",
       "      <td>0.069975</td>\n",
       "      <td>0.015588</td>\n",
       "    </tr>\n",
       "    <tr>\n",
       "      <th>inv_income_pp(t)</th>\n",
       "      <td>0.069556</td>\n",
       "      <td>0.015507</td>\n",
       "    </tr>\n",
       "    <tr>\n",
       "      <th>claims(t, kind)</th>\n",
       "      <td>0.064405</td>\n",
       "      <td>0.018125</td>\n",
       "    </tr>\n",
       "  </tbody>\n",
       "</table>\n",
       "</div>"
      ],
      "text/plain": [
       "                          df1       df4\n",
       "surr_charge_rate(t)  0.697034  0.024496\n",
       "inv_return_mth(t)    0.338032  0.000000\n",
       "premium_pp(t)        0.146663  0.033878\n",
       "pols_new_biz(t)      0.069975  0.015588\n",
       "inv_income_pp(t)     0.069556  0.015507\n",
       "claims(t, kind)      0.064405  0.018125"
      ]
     },
     "execution_count": 17,
     "metadata": {},
     "output_type": "execute_result"
    }
   ],
   "source": [
    "df = pd.concat([df1[['duration']], df4[['duration']]], axis=1)\n",
    "df.columns = ['df1', 'df4']\n",
    "df.loc[(df['df1'] > 0.05) | (df['df4'] > 0.05)]"
   ]
  }
 ],
 "metadata": {
  "kernelspec": {
   "display_name": "Python 3 (ipykernel)",
   "language": "python",
   "name": "python3"
  },
  "language_info": {
   "codemirror_mode": {
    "name": "ipython",
    "version": 3
   },
   "file_extension": ".py",
   "mimetype": "text/x-python",
   "name": "python",
   "nbconvert_exporter": "python",
   "pygments_lexer": "ipython3",
   "version": "3.9.7"
  }
 },
 "nbformat": 4,
 "nbformat_minor": 5
}
