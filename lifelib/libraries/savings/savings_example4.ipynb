{
 "cells": [
  {
   "cell_type": "markdown",
   "id": "9400df98",
   "metadata": {},
   "source": [
    "# 4. Optimizing and profiling the model\n",
    "\n",
    "TODO: Add description"
   ]
  },
  {
   "cell_type": "code",
   "execution_count": 1,
   "id": "6ad58376",
   "metadata": {},
   "outputs": [],
   "source": [
    "import timeit\n",
    "import pandas as pd\n",
    "import modelx as mx"
   ]
  },
  {
   "cell_type": "code",
   "execution_count": 2,
   "id": "a1653a3f",
   "metadata": {},
   "outputs": [],
   "source": [
    "ex1 = mx.read_model('CashValue_ME_EX1') "
   ]
  },
  {
   "cell_type": "code",
   "execution_count": 3,
   "id": "55aaff8b",
   "metadata": {},
   "outputs": [
    {
     "data": {
      "text/plain": [
       "1.2440227998886257"
      ]
     },
     "execution_count": 3,
     "metadata": {},
     "output_type": "execute_result"
    }
   ],
   "source": [
    "timeit.timeit('ex1.Projection.result_pv()', globals=globals(), number=1)"
   ]
  },
  {
   "cell_type": "code",
   "execution_count": 4,
   "id": "cc320585",
   "metadata": {},
   "outputs": [],
   "source": [
    "ex1.clear_all()"
   ]
  },
  {
   "cell_type": "code",
   "execution_count": 5,
   "id": "759cb684",
   "metadata": {},
   "outputs": [],
   "source": [
    "ex4 = mx.read_model('CashValue_ME_EX4') "
   ]
  },
  {
   "cell_type": "code",
   "execution_count": 6,
   "id": "e9caf8ae",
   "metadata": {},
   "outputs": [
    {
     "data": {
      "text/plain": [
       "0.8405095001216978"
      ]
     },
     "execution_count": 6,
     "metadata": {},
     "output_type": "execute_result"
    }
   ],
   "source": [
    "timeit.timeit('ex4.Projection.result_pv()', globals=globals(), number=1)"
   ]
  },
  {
   "cell_type": "code",
   "execution_count": 7,
   "id": "eaa6268e",
   "metadata": {},
   "outputs": [],
   "source": [
    "ex4.clear_all()"
   ]
  },
  {
   "cell_type": "markdown",
   "id": "952262b9",
   "metadata": {},
   "source": [
    "TODO: Add description"
   ]
  },
  {
   "cell_type": "markdown",
   "id": "e7a25c30",
   "metadata": {},
   "source": [
    "## Compare the models with 100,000 scenarios\n",
    "\n",
    "TODO: Add description\n",
    "\n",
    "<div class=\"alert alert-warning\">\n",
    "\n",
    "**Warning:**\n",
    "\n",
    "takes about 4GB of memory space \n",
    "    \n",
    "</div>"
   ]
  },
  {
   "cell_type": "code",
   "execution_count": 8,
   "id": "42ef0104",
   "metadata": {},
   "outputs": [],
   "source": [
    "ex1.Projection.scen_size = 100_000"
   ]
  },
  {
   "cell_type": "code",
   "execution_count": 9,
   "id": "66cc75a8",
   "metadata": {},
   "outputs": [
    {
     "data": {
      "text/plain": [
       "8.051920400001109"
      ]
     },
     "execution_count": 9,
     "metadata": {},
     "output_type": "execute_result"
    }
   ],
   "source": [
    "timeit.timeit('ex1.Projection.result_pv()', globals=globals(), number=1)"
   ]
  },
  {
   "cell_type": "code",
   "execution_count": 10,
   "id": "be375753",
   "metadata": {},
   "outputs": [],
   "source": [
    "ex1.clear_all()"
   ]
  },
  {
   "cell_type": "code",
   "execution_count": 11,
   "id": "a911b29b",
   "metadata": {},
   "outputs": [],
   "source": [
    "ex4.Projection.scen_size = 100_000"
   ]
  },
  {
   "cell_type": "code",
   "execution_count": 12,
   "id": "0026cc1c",
   "metadata": {},
   "outputs": [
    {
     "data": {
      "text/plain": [
       "6.547852599993348"
      ]
     },
     "execution_count": 12,
     "metadata": {},
     "output_type": "execute_result"
    }
   ],
   "source": [
    "timeit.timeit('ex4.Projection.result_pv()', globals=globals(), number=1)"
   ]
  },
  {
   "cell_type": "code",
   "execution_count": 13,
   "id": "caee567e",
   "metadata": {},
   "outputs": [],
   "source": [
    "ex4.clear_all()"
   ]
  },
  {
   "cell_type": "markdown",
   "id": "2ba009d9",
   "metadata": {},
   "source": [
    "## Profile the runs\n",
    "\n",
    "TODO: Add description"
   ]
  },
  {
   "cell_type": "code",
   "execution_count": 14,
   "id": "f36620bb",
   "metadata": {},
   "outputs": [],
   "source": [
    "def get_time_info(model):\n",
    "    \n",
    "    try:\n",
    "        mx.start_stacktrace(maxlen=None)\n",
    "        model.Projection.result_pv()\n",
    "        df = pd.DataFrame.from_dict(\n",
    "            mx.get_stacktrace(summarize=True), orient=\"index\")\n",
    "    finally:\n",
    "        mx.stop_stacktrace()\n",
    "        model.clear_all()\n",
    "\n",
    "    # Remove model and space names from index\n",
    "    prefixlen = len(model.name + '.Projection.')\n",
    "    df.index = [s[prefixlen:] for s in df.index]     \n",
    "\n",
    "    # Add duration %\n",
    "    total = df['duration'].sum()\n",
    "    df['dur_perc'] = df['duration'] * 100 / total\n",
    "    \n",
    "    return df.sort_values(['dur_perc'], ascending=False)"
   ]
  },
  {
   "cell_type": "code",
   "execution_count": 15,
   "id": "93a54ef2",
   "metadata": {
    "scrolled": true
   },
   "outputs": [
    {
     "name": "stderr",
     "output_type": "stream",
     "text": [
      "UserWarning: call stack trace activated\n",
      "UserWarning: call stack trace deactivated\n"
     ]
    },
    {
     "data": {
      "text/html": [
       "<div>\n",
       "<style scoped>\n",
       "    .dataframe tbody tr th:only-of-type {\n",
       "        vertical-align: middle;\n",
       "    }\n",
       "\n",
       "    .dataframe tbody tr th {\n",
       "        vertical-align: top;\n",
       "    }\n",
       "\n",
       "    .dataframe thead th {\n",
       "        text-align: right;\n",
       "    }\n",
       "</style>\n",
       "<table border=\"1\" class=\"dataframe\">\n",
       "  <thead>\n",
       "    <tr style=\"text-align: right;\">\n",
       "      <th></th>\n",
       "      <th>duration</th>\n",
       "      <th>dur_perc</th>\n",
       "    </tr>\n",
       "  </thead>\n",
       "  <tbody>\n",
       "    <tr>\n",
       "      <th>surr_charge_rate(t)</th>\n",
       "      <td>0.624001</td>\n",
       "      <td>36.920117</td>\n",
       "    </tr>\n",
       "    <tr>\n",
       "      <th>inv_return_mth(t)</th>\n",
       "      <td>0.269719</td>\n",
       "      <td>15.958412</td>\n",
       "    </tr>\n",
       "    <tr>\n",
       "      <th>premium_pp(t)</th>\n",
       "      <td>0.242344</td>\n",
       "      <td>14.338736</td>\n",
       "    </tr>\n",
       "    <tr>\n",
       "      <th>prem_to_av_pp(t)</th>\n",
       "      <td>0.056426</td>\n",
       "      <td>3.338562</td>\n",
       "    </tr>\n",
       "    <tr>\n",
       "      <th>pols_new_biz(t)</th>\n",
       "      <td>0.053761</td>\n",
       "      <td>3.180880</td>\n",
       "    </tr>\n",
       "    <tr>\n",
       "      <th>claim_pp(t, kind)</th>\n",
       "      <td>0.050353</td>\n",
       "      <td>2.979228</td>\n",
       "    </tr>\n",
       "    <tr>\n",
       "      <th>av_pp_at(t, timing)</th>\n",
       "      <td>0.040608</td>\n",
       "      <td>2.402669</td>\n",
       "    </tr>\n",
       "    <tr>\n",
       "      <th>pols_if_at(t, timing)</th>\n",
       "      <td>0.036391</td>\n",
       "      <td>2.153168</td>\n",
       "    </tr>\n",
       "    <tr>\n",
       "      <th>inv_income(t)</th>\n",
       "      <td>0.031674</td>\n",
       "      <td>1.874071</td>\n",
       "    </tr>\n",
       "    <tr>\n",
       "      <th>pv_claims(kind)</th>\n",
       "      <td>0.031282</td>\n",
       "      <td>1.850866</td>\n",
       "    </tr>\n",
       "  </tbody>\n",
       "</table>\n",
       "</div>"
      ],
      "text/plain": [
       "                       duration   dur_perc\n",
       "surr_charge_rate(t)    0.624001  36.920117\n",
       "inv_return_mth(t)      0.269719  15.958412\n",
       "premium_pp(t)          0.242344  14.338736\n",
       "prem_to_av_pp(t)       0.056426   3.338562\n",
       "pols_new_biz(t)        0.053761   3.180880\n",
       "claim_pp(t, kind)      0.050353   2.979228\n",
       "av_pp_at(t, timing)    0.040608   2.402669\n",
       "pols_if_at(t, timing)  0.036391   2.153168\n",
       "inv_income(t)          0.031674   1.874071\n",
       "pv_claims(kind)        0.031282   1.850866"
      ]
     },
     "execution_count": 15,
     "metadata": {},
     "output_type": "execute_result"
    }
   ],
   "source": [
    "ex1.Projection.scen_size = 10000\n",
    "df1 = get_time_info(ex1)\n",
    "df1[['duration', 'dur_perc']].iloc[:10]"
   ]
  },
  {
   "cell_type": "code",
   "execution_count": 16,
   "id": "00a0f818",
   "metadata": {},
   "outputs": [
    {
     "name": "stderr",
     "output_type": "stream",
     "text": [
      "UserWarning: call stack trace activated\n",
      "UserWarning: call stack trace deactivated\n"
     ]
    },
    {
     "data": {
      "text/html": [
       "<div>\n",
       "<style scoped>\n",
       "    .dataframe tbody tr th:only-of-type {\n",
       "        vertical-align: middle;\n",
       "    }\n",
       "\n",
       "    .dataframe tbody tr th {\n",
       "        vertical-align: top;\n",
       "    }\n",
       "\n",
       "    .dataframe thead th {\n",
       "        text-align: right;\n",
       "    }\n",
       "</style>\n",
       "<table border=\"1\" class=\"dataframe\">\n",
       "  <thead>\n",
       "    <tr style=\"text-align: right;\">\n",
       "      <th></th>\n",
       "      <th>duration</th>\n",
       "      <th>dur_perc</th>\n",
       "    </tr>\n",
       "  </thead>\n",
       "  <tbody>\n",
       "    <tr>\n",
       "      <th>surr_charge_rate(t)</th>\n",
       "      <td>0.545975</td>\n",
       "      <td>45.629918</td>\n",
       "    </tr>\n",
       "    <tr>\n",
       "      <th>inv_return_table()</th>\n",
       "      <td>0.256201</td>\n",
       "      <td>21.412039</td>\n",
       "    </tr>\n",
       "    <tr>\n",
       "      <th>premium_pp(t)</th>\n",
       "      <td>0.107633</td>\n",
       "      <td>8.995453</td>\n",
       "    </tr>\n",
       "    <tr>\n",
       "      <th>pols_new_biz(t)</th>\n",
       "      <td>0.027895</td>\n",
       "      <td>2.331327</td>\n",
       "    </tr>\n",
       "    <tr>\n",
       "      <th>inv_income_pp(t)</th>\n",
       "      <td>0.027172</td>\n",
       "      <td>2.270911</td>\n",
       "    </tr>\n",
       "    <tr>\n",
       "      <th>surr_charge(t)</th>\n",
       "      <td>0.026547</td>\n",
       "      <td>2.218706</td>\n",
       "    </tr>\n",
       "    <tr>\n",
       "      <th>mort_table_last_age()</th>\n",
       "      <td>0.022545</td>\n",
       "      <td>1.884170</td>\n",
       "    </tr>\n",
       "    <tr>\n",
       "      <th>prem_to_av_pp(t)</th>\n",
       "      <td>0.020173</td>\n",
       "      <td>1.685928</td>\n",
       "    </tr>\n",
       "    <tr>\n",
       "      <th>claims(t, kind)</th>\n",
       "      <td>0.019646</td>\n",
       "      <td>1.641892</td>\n",
       "    </tr>\n",
       "    <tr>\n",
       "      <th>pols_if_at(t, timing)</th>\n",
       "      <td>0.019297</td>\n",
       "      <td>1.612740</td>\n",
       "    </tr>\n",
       "  </tbody>\n",
       "</table>\n",
       "</div>"
      ],
      "text/plain": [
       "                       duration   dur_perc\n",
       "surr_charge_rate(t)    0.545975  45.629918\n",
       "inv_return_table()     0.256201  21.412039\n",
       "premium_pp(t)          0.107633   8.995453\n",
       "pols_new_biz(t)        0.027895   2.331327\n",
       "inv_income_pp(t)       0.027172   2.270911\n",
       "surr_charge(t)         0.026547   2.218706\n",
       "mort_table_last_age()  0.022545   1.884170\n",
       "prem_to_av_pp(t)       0.020173   1.685928\n",
       "claims(t, kind)        0.019646   1.641892\n",
       "pols_if_at(t, timing)  0.019297   1.612740"
      ]
     },
     "execution_count": 16,
     "metadata": {},
     "output_type": "execute_result"
    }
   ],
   "source": [
    "ex4.Projection.scen_size = 10000\n",
    "df4 = get_time_info(ex4)\n",
    "df4[['duration', 'dur_perc']].iloc[:10]"
   ]
  },
  {
   "cell_type": "code",
   "execution_count": 17,
   "id": "63b6dff5",
   "metadata": {},
   "outputs": [
    {
     "data": {
      "text/html": [
       "<div>\n",
       "<style scoped>\n",
       "    .dataframe tbody tr th:only-of-type {\n",
       "        vertical-align: middle;\n",
       "    }\n",
       "\n",
       "    .dataframe tbody tr th {\n",
       "        vertical-align: top;\n",
       "    }\n",
       "\n",
       "    .dataframe thead th {\n",
       "        text-align: right;\n",
       "    }\n",
       "</style>\n",
       "<table border=\"1\" class=\"dataframe\">\n",
       "  <thead>\n",
       "    <tr style=\"text-align: right;\">\n",
       "      <th></th>\n",
       "      <th>df1</th>\n",
       "      <th>df4</th>\n",
       "    </tr>\n",
       "  </thead>\n",
       "  <tbody>\n",
       "    <tr>\n",
       "      <th>surr_charge_rate(t)</th>\n",
       "      <td>0.624001</td>\n",
       "      <td>0.545975</td>\n",
       "    </tr>\n",
       "    <tr>\n",
       "      <th>inv_return_mth(t)</th>\n",
       "      <td>0.269719</td>\n",
       "      <td>0.000000</td>\n",
       "    </tr>\n",
       "    <tr>\n",
       "      <th>premium_pp(t)</th>\n",
       "      <td>0.242344</td>\n",
       "      <td>0.107633</td>\n",
       "    </tr>\n",
       "    <tr>\n",
       "      <th>prem_to_av_pp(t)</th>\n",
       "      <td>0.056426</td>\n",
       "      <td>0.020173</td>\n",
       "    </tr>\n",
       "    <tr>\n",
       "      <th>pols_new_biz(t)</th>\n",
       "      <td>0.053761</td>\n",
       "      <td>0.027895</td>\n",
       "    </tr>\n",
       "    <tr>\n",
       "      <th>claim_pp(t, kind)</th>\n",
       "      <td>0.050353</td>\n",
       "      <td>0.005729</td>\n",
       "    </tr>\n",
       "    <tr>\n",
       "      <th>inv_return_table()</th>\n",
       "      <td>0.015044</td>\n",
       "      <td>0.256201</td>\n",
       "    </tr>\n",
       "  </tbody>\n",
       "</table>\n",
       "</div>"
      ],
      "text/plain": [
       "                          df1       df4\n",
       "surr_charge_rate(t)  0.624001  0.545975\n",
       "inv_return_mth(t)    0.269719  0.000000\n",
       "premium_pp(t)        0.242344  0.107633\n",
       "prem_to_av_pp(t)     0.056426  0.020173\n",
       "pols_new_biz(t)      0.053761  0.027895\n",
       "claim_pp(t, kind)    0.050353  0.005729\n",
       "inv_return_table()   0.015044  0.256201"
      ]
     },
     "execution_count": 17,
     "metadata": {},
     "output_type": "execute_result"
    }
   ],
   "source": [
    "df = pd.concat([df1[['duration']], df4[['duration']]], axis=1)\n",
    "df.columns = ['df1', 'df4']\n",
    "df.loc[(df['df1'] > 0.05) | (df['df4'] > 0.05)]"
   ]
  }
 ],
 "metadata": {
  "kernelspec": {
   "display_name": "Python 3 (ipykernel)",
   "language": "python",
   "name": "python3"
  },
  "language_info": {
   "codemirror_mode": {
    "name": "ipython",
    "version": 3
   },
   "file_extension": ".py",
   "mimetype": "text/x-python",
   "name": "python",
   "nbconvert_exporter": "python",
   "pygments_lexer": "ipython3",
   "version": "3.10.6"
  }
 },
 "nbformat": 4,
 "nbformat_minor": 5
}
